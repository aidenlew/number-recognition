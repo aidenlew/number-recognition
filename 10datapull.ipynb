{
 "cells": [
  {
   "cell_type": "markdown",
   "id": "cf0127be-f880-4cb8-a5b3-7fdfc5a4303d",
   "metadata": {},
   "source": [
    "## Data Collection\n",
    "\n",
    "The MNIST database *[website](http://yann.lecun.com/exdb/mnist/)* kindly provides a collection of labelled images for training and testing.  \n",
    "\n",
    "This notebook downloads these files.\n"
   ]
  },
  {
   "cell_type": "code",
   "execution_count": 4,
   "id": "6489e3db-df3a-42d3-acad-51a23e5fb04e",
   "metadata": {},
   "outputs": [],
   "source": [
    "import os"
   ]
  },
  {
   "cell_type": "code",
   "execution_count": 5,
   "id": "d63cbd96-7f47-4f24-aaed-fbfa8d65d9a4",
   "metadata": {},
   "outputs": [],
   "source": [
    "url = \"http://yann.lecun.com/exdb/mnist/\"\n",
    "files = [\"train-images-idx3-ubyte.gz\", \n",
    "         \"train-labels-idx1-ubyte.gz\", \n",
    "         \"t10k-images-idx3-ubyte.gz\", \n",
    "         \"t10k-labels-idx1-ubyte.gz\"]\n",
    "\n",
    "# specify in format \"curl -o [file_name] [URL]\" to save appropriately\n",
    "urls = [\"data/\" + x + \" \" + url + x for x in files]\n",
    "curl_request = \"curl -o \"+' -o '.join(urls)"
   ]
  },
  {
   "cell_type": "code",
   "execution_count": 17,
   "id": "cb106a7d-b4b1-4852-9461-e2b980f9bdf7",
   "metadata": {},
   "outputs": [
    {
     "name": "stdout",
     "output_type": "stream",
     "text": [
      "train-images-idx3-ubyte.gz already exists.\n",
      "train-labels-idx1-ubyte.gz already exists.\n",
      "t10k-images-idx3-ubyte.gz already exists.\n",
      "t10k-labels-idx1-ubyte.gz already exists.\n"
     ]
    }
   ],
   "source": [
    "for file in files:\n",
    "    filepath = os.path.abspath(os.getcwd()) + \"/data/\" +file\n",
    "    if os.path.isfile(filepath):\n",
    "        print(file + \" already exists.\")\n",
    "    else:\n",
    "        os.system(curl_request)\n",
    "        break"
   ]
  }
 ],
 "metadata": {
  "kernelspec": {
   "display_name": "Python 3",
   "language": "python",
   "name": "python3"
  },
  "language_info": {
   "codemirror_mode": {
    "name": "ipython",
    "version": 3
   },
   "file_extension": ".py",
   "mimetype": "text/x-python",
   "name": "python",
   "nbconvert_exporter": "python",
   "pygments_lexer": "ipython3",
   "version": "3.8.0"
  }
 },
 "nbformat": 4,
 "nbformat_minor": 5
}
