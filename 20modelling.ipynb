{
 "cells": [
  {
   "cell_type": "markdown",
   "id": "3d3f8bbf-818b-4115-90cb-7549e32719de",
   "metadata": {},
   "source": [
    "# Making a basic torch neural net\n",
    "\n",
    "In an attempt to learn how to use the torch library and neural nets in general, let's aim for a proficiency rate of 80%."
   ]
  },
  {
   "cell_type": "code",
   "execution_count": 10,
   "id": "181dd0f4-4141-4fe0-9ae0-623187451ed0",
   "metadata": {},
   "outputs": [],
   "source": [
    "# import our libraries\n",
    "import numpy as np, torch, matplotlib.pyplot as plt, gzip"
   ]
  },
  {
   "cell_type": "code",
   "execution_count": 44,
   "id": "4ed77abb-8bf0-4c1e-8eb8-e3206e05008e",
   "metadata": {},
   "outputs": [],
   "source": [
    "# read in our files\n",
    "files = [\"train-images-idx3-ubyte.gz\", \n",
    "         \"train-labels-idx1-ubyte.gz\", \n",
    "         \"t10k-images-idx3-ubyte.gz\", \n",
    "         \"t10k-labels-idx1-ubyte.gz\"]\n",
    "files = [\"data/\" + file for file in files]"
   ]
  },
  {
   "cell_type": "markdown",
   "id": "cdd3dca4-2f0f-40ab-bc37-fd6eb88370bb",
   "metadata": {},
   "source": [
    " Each feature vector (row in the feature matrix) consists of 784 pixels (intensities) \n",
    "-- unrolled from the original 28x28 pixels images.   \n",
    "In order to read in these images and show them, we need to reshape our np arrays.   \n",
    "The first 16 indicies (0x10 as hexadecimal) are likely redundant info, when removed allow us to reshape"
   ]
  },
  {
   "cell_type": "code",
   "execution_count": 47,
   "id": "dc5828ee-4fd8-4806-81c1-462a5f77fefa",
   "metadata": {},
   "outputs": [],
   "source": [
    "X_train = np.frombuffer(gzip.decompress(open(files[0], \"rb\").read()), dtype=np.uint8)[0x10:].reshape((-1,28,28))\n",
    "Y_train = np.frombuffer(gzip.decompress(open(files[1], \"rb\").read()), dtype=np.uint8)[8:]\n",
    "X_test = np.frombuffer(gzip.decompress(open(files[2], \"rb\").read()), dtype=np.uint8)[0x10:].reshape((-1,28,28))\n",
    "Y_test = np.frombuffer(gzip.decompress(open(files[3], \"rb\").read()), dtype=np.uint8)[8:]"
   ]
  },
  {
   "cell_type": "code",
   "execution_count": 69,
   "id": "e5832dc9-38aa-4b0b-bf23-71136373b49f",
   "metadata": {},
   "outputs": [
    {
     "data": {
      "text/plain": [
       "<function matplotlib.pyplot.show(close=None, block=None)>"
      ]
     },
     "execution_count": 69,
     "metadata": {},
     "output_type": "execute_result"
    },
    {
     "data": {
      "image/png": "[encoded data removed]",
      "text/plain": [
       "<Figure size 576x288 with 1 Axes>"
      ]
     },
     "metadata": {
      "needs_background": "light"
     },
     "output_type": "display_data"
    }
   ],
   "source": [
    "# confirm we can show images and that the X and Y array are aligned.\n",
    "plt.figure(figsize=(8,4))\n",
    "im = plt.imshow(X_train[0]) # first image\n",
    "plt.title(\"label = \" + str(Y_train[0])) # first label\n",
    "plt.show"
   ]
  },
  {
   "cell_type": "code",
   "execution_count": null,
   "id": "43122faf-9565-4224-a8f3-c3adfec6f144",
   "metadata": {},
   "outputs": [],
   "source": []
  }
 ],
 "metadata": {
  "kernelspec": {
   "display_name": "Python 3",
   "language": "python",
   "name": "python3"
  },
  "language_info": {
   "codemirror_mode": {
    "name": "ipython",
    "version": 3
   },
   "file_extension": ".py",
   "mimetype": "text/x-python",
   "name": "python",
   "nbconvert_exporter": "python",
   "pygments_lexer": "ipython3",
   "version": "3.8.0"
  }
 },
 "nbformat": 4,
 "nbformat_minor": 5
}
